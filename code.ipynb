{
  "cells": [
    {
      "cell_type": "markdown",
      "metadata": {
        "id": "06eO8CJYqSR2"
      },
      "source": [
        "# 1. 라이브러리 설치 및 호출"
      ]
    },
    {
      "cell_type": "code",
      "execution_count": 12,
      "metadata": {
        "colab": {
          "base_uri": "https://localhost:8080/"
        },
        "id": "JqN6Uy68ex_P",
        "outputId": "635a0bbd-5876-4fcf-8a6e-01f7fc30dc5a"
      },
      "outputs": [
        {
          "name": "stdout",
          "output_type": "stream",
          "text": [
            "Requirement already satisfied: vaderSentiment in /usr/local/lib/python3.10/dist-packages (3.3.2)\n",
            "Requirement already satisfied: requests in /usr/local/lib/python3.10/dist-packages (from vaderSentiment) (2.31.0)\n",
            "Requirement already satisfied: charset-normalizer<4,>=2 in /usr/local/lib/python3.10/dist-packages (from requests->vaderSentiment) (3.3.2)\n",
            "Requirement already satisfied: idna<4,>=2.5 in /usr/local/lib/python3.10/dist-packages (from requests->vaderSentiment) (3.6)\n",
            "Requirement already satisfied: urllib3<3,>=1.21.1 in /usr/local/lib/python3.10/dist-packages (from requests->vaderSentiment) (2.0.7)\n",
            "Requirement already satisfied: certifi>=2017.4.17 in /usr/local/lib/python3.10/dist-packages (from requests->vaderSentiment) (2024.2.2)\n",
            "Requirement already satisfied: catboost in /usr/local/lib/python3.10/dist-packages (1.2.3)\n",
            "Requirement already satisfied: graphviz in /usr/local/lib/python3.10/dist-packages (from catboost) (0.20.1)\n",
            "Requirement already satisfied: matplotlib in /usr/local/lib/python3.10/dist-packages (from catboost) (3.7.1)\n",
            "Requirement already satisfied: numpy>=1.16.0 in /usr/local/lib/python3.10/dist-packages (from catboost) (1.25.2)\n",
            "Requirement already satisfied: pandas>=0.24 in /usr/local/lib/python3.10/dist-packages (from catboost) (1.5.3)\n",
            "Requirement already satisfied: scipy in /usr/local/lib/python3.10/dist-packages (from catboost) (1.11.4)\n",
            "Requirement already satisfied: plotly in /usr/local/lib/python3.10/dist-packages (from catboost) (5.15.0)\n",
            "Requirement already satisfied: six in /usr/local/lib/python3.10/dist-packages (from catboost) (1.16.0)\n",
            "Requirement already satisfied: python-dateutil>=2.8.1 in /usr/local/lib/python3.10/dist-packages (from pandas>=0.24->catboost) (2.8.2)\n",
            "Requirement already satisfied: pytz>=2020.1 in /usr/local/lib/python3.10/dist-packages (from pandas>=0.24->catboost) (2023.4)\n",
            "Requirement already satisfied: contourpy>=1.0.1 in /usr/local/lib/python3.10/dist-packages (from matplotlib->catboost) (1.2.0)\n",
            "Requirement already satisfied: cycler>=0.10 in /usr/local/lib/python3.10/dist-packages (from matplotlib->catboost) (0.12.1)\n",
            "Requirement already satisfied: fonttools>=4.22.0 in /usr/local/lib/python3.10/dist-packages (from matplotlib->catboost) (4.49.0)\n",
            "Requirement already satisfied: kiwisolver>=1.0.1 in /usr/local/lib/python3.10/dist-packages (from matplotlib->catboost) (1.4.5)\n",
            "Requirement already satisfied: packaging>=20.0 in /usr/local/lib/python3.10/dist-packages (from matplotlib->catboost) (23.2)\n",
            "Requirement already satisfied: pillow>=6.2.0 in /usr/local/lib/python3.10/dist-packages (from matplotlib->catboost) (9.4.0)\n",
            "Requirement already satisfied: pyparsing>=2.3.1 in /usr/local/lib/python3.10/dist-packages (from matplotlib->catboost) (3.1.1)\n",
            "Requirement already satisfied: tenacity>=6.2.0 in /usr/local/lib/python3.10/dist-packages (from plotly->catboost) (8.2.3)\n",
            "Collecting en-core-web-lg==3.7.1\n",
            "  Downloading https://github.com/explosion/spacy-models/releases/download/en_core_web_lg-3.7.1/en_core_web_lg-3.7.1-py3-none-any.whl (587.7 MB)\n",
            "\u001b[2K     \u001b[90m━━━━━━━━━━━━━━━━━━━━━━━━━━━━━━━━━━━━━━━━\u001b[0m \u001b[32m587.7/587.7 MB\u001b[0m \u001b[31m3.0 MB/s\u001b[0m eta \u001b[36m0:00:00\u001b[0m\n",
            "\u001b[?25hRequirement already satisfied: spacy<3.8.0,>=3.7.2 in /usr/local/lib/python3.10/dist-packages (from en-core-web-lg==3.7.1) (3.7.4)\n",
            "Requirement already satisfied: spacy-legacy<3.1.0,>=3.0.11 in /usr/local/lib/python3.10/dist-packages (from spacy<3.8.0,>=3.7.2->en-core-web-lg==3.7.1) (3.0.12)\n",
            "Requirement already satisfied: spacy-loggers<2.0.0,>=1.0.0 in /usr/local/lib/python3.10/dist-packages (from spacy<3.8.0,>=3.7.2->en-core-web-lg==3.7.1) (1.0.5)\n",
            "Requirement already satisfied: murmurhash<1.1.0,>=0.28.0 in /usr/local/lib/python3.10/dist-packages (from spacy<3.8.0,>=3.7.2->en-core-web-lg==3.7.1) (1.0.10)\n",
            "Requirement already satisfied: cymem<2.1.0,>=2.0.2 in /usr/local/lib/python3.10/dist-packages (from spacy<3.8.0,>=3.7.2->en-core-web-lg==3.7.1) (2.0.8)\n",
            "Requirement already satisfied: preshed<3.1.0,>=3.0.2 in /usr/local/lib/python3.10/dist-packages (from spacy<3.8.0,>=3.7.2->en-core-web-lg==3.7.1) (3.0.9)\n",
            "Requirement already satisfied: thinc<8.3.0,>=8.2.2 in /usr/local/lib/python3.10/dist-packages (from spacy<3.8.0,>=3.7.2->en-core-web-lg==3.7.1) (8.2.3)\n",
            "Requirement already satisfied: wasabi<1.2.0,>=0.9.1 in /usr/local/lib/python3.10/dist-packages (from spacy<3.8.0,>=3.7.2->en-core-web-lg==3.7.1) (1.1.2)\n",
            "Requirement already satisfied: srsly<3.0.0,>=2.4.3 in /usr/local/lib/python3.10/dist-packages (from spacy<3.8.0,>=3.7.2->en-core-web-lg==3.7.1) (2.4.8)\n",
            "Requirement already satisfied: catalogue<2.1.0,>=2.0.6 in /usr/local/lib/python3.10/dist-packages (from spacy<3.8.0,>=3.7.2->en-core-web-lg==3.7.1) (2.0.10)\n",
            "Requirement already satisfied: weasel<0.4.0,>=0.1.0 in /usr/local/lib/python3.10/dist-packages (from spacy<3.8.0,>=3.7.2->en-core-web-lg==3.7.1) (0.3.4)\n",
            "Requirement already satisfied: typer<0.10.0,>=0.3.0 in /usr/local/lib/python3.10/dist-packages (from spacy<3.8.0,>=3.7.2->en-core-web-lg==3.7.1) (0.9.0)\n",
            "Requirement already satisfied: smart-open<7.0.0,>=5.2.1 in /usr/local/lib/python3.10/dist-packages (from spacy<3.8.0,>=3.7.2->en-core-web-lg==3.7.1) (6.4.0)\n",
            "Requirement already satisfied: tqdm<5.0.0,>=4.38.0 in /usr/local/lib/python3.10/dist-packages (from spacy<3.8.0,>=3.7.2->en-core-web-lg==3.7.1) (4.66.2)\n",
            "Requirement already satisfied: requests<3.0.0,>=2.13.0 in /usr/local/lib/python3.10/dist-packages (from spacy<3.8.0,>=3.7.2->en-core-web-lg==3.7.1) (2.31.0)\n",
            "Requirement already satisfied: pydantic!=1.8,!=1.8.1,<3.0.0,>=1.7.4 in /usr/local/lib/python3.10/dist-packages (from spacy<3.8.0,>=3.7.2->en-core-web-lg==3.7.1) (2.6.1)\n",
            "Requirement already satisfied: jinja2 in /usr/local/lib/python3.10/dist-packages (from spacy<3.8.0,>=3.7.2->en-core-web-lg==3.7.1) (3.1.3)\n",
            "Requirement already satisfied: setuptools in /usr/local/lib/python3.10/dist-packages (from spacy<3.8.0,>=3.7.2->en-core-web-lg==3.7.1) (67.7.2)\n",
            "Requirement already satisfied: packaging>=20.0 in /usr/local/lib/python3.10/dist-packages (from spacy<3.8.0,>=3.7.2->en-core-web-lg==3.7.1) (23.2)\n",
            "Requirement already satisfied: langcodes<4.0.0,>=3.2.0 in /usr/local/lib/python3.10/dist-packages (from spacy<3.8.0,>=3.7.2->en-core-web-lg==3.7.1) (3.3.0)\n",
            "Requirement already satisfied: numpy>=1.19.0 in /usr/local/lib/python3.10/dist-packages (from spacy<3.8.0,>=3.7.2->en-core-web-lg==3.7.1) (1.25.2)\n",
            "Requirement already satisfied: annotated-types>=0.4.0 in /usr/local/lib/python3.10/dist-packages (from pydantic!=1.8,!=1.8.1,<3.0.0,>=1.7.4->spacy<3.8.0,>=3.7.2->en-core-web-lg==3.7.1) (0.6.0)\n",
            "Requirement already satisfied: pydantic-core==2.16.2 in /usr/local/lib/python3.10/dist-packages (from pydantic!=1.8,!=1.8.1,<3.0.0,>=1.7.4->spacy<3.8.0,>=3.7.2->en-core-web-lg==3.7.1) (2.16.2)\n",
            "Requirement already satisfied: typing-extensions>=4.6.1 in /usr/local/lib/python3.10/dist-packages (from pydantic!=1.8,!=1.8.1,<3.0.0,>=1.7.4->spacy<3.8.0,>=3.7.2->en-core-web-lg==3.7.1) (4.9.0)\n",
            "Requirement already satisfied: charset-normalizer<4,>=2 in /usr/local/lib/python3.10/dist-packages (from requests<3.0.0,>=2.13.0->spacy<3.8.0,>=3.7.2->en-core-web-lg==3.7.1) (3.3.2)\n",
            "Requirement already satisfied: idna<4,>=2.5 in /usr/local/lib/python3.10/dist-packages (from requests<3.0.0,>=2.13.0->spacy<3.8.0,>=3.7.2->en-core-web-lg==3.7.1) (3.6)\n",
            "Requirement already satisfied: urllib3<3,>=1.21.1 in /usr/local/lib/python3.10/dist-packages (from requests<3.0.0,>=2.13.0->spacy<3.8.0,>=3.7.2->en-core-web-lg==3.7.1) (2.0.7)\n",
            "Requirement already satisfied: certifi>=2017.4.17 in /usr/local/lib/python3.10/dist-packages (from requests<3.0.0,>=2.13.0->spacy<3.8.0,>=3.7.2->en-core-web-lg==3.7.1) (2024.2.2)\n",
            "Requirement already satisfied: blis<0.8.0,>=0.7.8 in /usr/local/lib/python3.10/dist-packages (from thinc<8.3.0,>=8.2.2->spacy<3.8.0,>=3.7.2->en-core-web-lg==3.7.1) (0.7.11)\n",
            "Requirement already satisfied: confection<1.0.0,>=0.0.1 in /usr/local/lib/python3.10/dist-packages (from thinc<8.3.0,>=8.2.2->spacy<3.8.0,>=3.7.2->en-core-web-lg==3.7.1) (0.1.4)\n",
            "Requirement already satisfied: click<9.0.0,>=7.1.1 in /usr/local/lib/python3.10/dist-packages (from typer<0.10.0,>=0.3.0->spacy<3.8.0,>=3.7.2->en-core-web-lg==3.7.1) (8.1.7)\n",
            "Requirement already satisfied: cloudpathlib<0.17.0,>=0.7.0 in /usr/local/lib/python3.10/dist-packages (from weasel<0.4.0,>=0.1.0->spacy<3.8.0,>=3.7.2->en-core-web-lg==3.7.1) (0.16.0)\n",
            "Requirement already satisfied: MarkupSafe>=2.0 in /usr/local/lib/python3.10/dist-packages (from jinja2->spacy<3.8.0,>=3.7.2->en-core-web-lg==3.7.1) (2.1.5)\n",
            "Installing collected packages: en-core-web-lg\n",
            "Successfully installed en-core-web-lg-3.7.1\n",
            "\u001b[38;5;2m✔ Download and installation successful\u001b[0m\n",
            "You can now load the package via spacy.load('en_core_web_lg')\n",
            "\u001b[38;5;3m⚠ Restart to reload dependencies\u001b[0m\n",
            "If you are in a Jupyter or Colab notebook, you may need to restart Python in\n",
            "order to load all the package's dependencies. You can do this by selecting the\n",
            "'Restart kernel' or 'Restart runtime' option.\n"
          ]
        }
      ],
      "source": [
        "!pip install vaderSentiment\n",
        "!pip install catboost\n",
        "!python -m spacy download en_core_web_lg"
      ]
    },
    {
      "cell_type": "code",
      "execution_count": 6,
      "metadata": {
        "id": "rk93Il6lqW2j"
      },
      "outputs": [],
      "source": [
        "import pandas as pd\n",
        "import numpy as np\n",
        "from sklearn.preprocessing import MinMaxScaler\n",
        "from sklearn.ensemble import RandomForestClassifier,ExtraTreesClassifier,StackingClassifier\n",
        "from sklearn.linear_model import LogisticRegression\n",
        "from sklearn.tree import DecisionTreeClassifier\n",
        "from xgboost import XGBClassifier\n",
        "from sklearn.experimental import enable_iterative_imputer\n",
        "from sklearn.impute import IterativeImputer\n",
        "import imblearn\n",
        "from imblearn.under_sampling import RandomUnderSampler\n",
        "import spacy\n",
        "from vaderSentiment.vaderSentiment import SentimentIntensityAnalyzer\n",
        "from difflib import SequenceMatcher\n",
        "from catboost import CatBoostClassifier\n",
        "from lightgbm import LGBMClassifier"
      ]
    },
    {
      "cell_type": "markdown",
      "metadata": {
        "id": "Utw2e7NuqgSV"
      },
      "source": [
        "# 2. 데이터 호출 및 전처리"
      ]
    },
    {
      "cell_type": "markdown",
      "metadata": {
        "id": "mZvjhUrEgsBo"
      },
      "source": [
        "## [데이터 호출]\n"
      ]
    },
    {
      "cell_type": "code",
      "execution_count": 7,
      "metadata": {
        "id": "KzENfeHBqekz"
      },
      "outputs": [],
      "source": [
        "data = pd.read_csv(\"train.csv\") # 학습용 데이터\n",
        "submission_test = pd.read_csv(\"submission.csv\") # 테스트 데이터(제출파일의 데이터"
      ]
    },
    {
      "cell_type": "markdown",
      "metadata": {
        "id": "riN2aweTg1RV"
      },
      "source": [
        "## [customer_country.1 수정]"
      ]
    },
    {
      "cell_type": "code",
      "execution_count": 8,
      "metadata": {
        "id": "kKIHncfFptUo"
      },
      "outputs": [],
      "source": [
        "\"\"\" customer_country.1 => country_level1 / country_level2 / country_level3로 변환 후 customer_country.1 drop\"\"\"\n",
        "split_columns = data['customer_country.1'].str.replace(' ', '').str.split('/', expand=True)\n",
        "split_columns2 = submission_test['customer_country.1'].str.replace(' ', '').str.split('/', expand=True)\n",
        "split_columns = split_columns.iloc[:, :3]\n",
        "split_columns2 = split_columns2.iloc[:, :3]\n",
        "split_columns.columns = ['country_level1', 'country_level2', 'country_level3', ]\n",
        "split_columns2.columns = ['country_level1', 'country_level2', 'country_level3' ]\n",
        "\n",
        "data = pd.concat([data, split_columns], axis=1)\n",
        "submission_test = pd.concat([submission_test, split_columns2], axis=1)\n",
        "\n",
        "data = data.drop('customer_country.1', axis=1)\n",
        "submission_test = submission_test.drop('customer_country.1', axis=1)"
      ]
    },
    {
      "cell_type": "markdown",
      "metadata": {
        "id": "G3TGbrDAhsu4"
      },
      "source": [
        "## [customer_country 수정]"
      ]
    },
    {
      "cell_type": "code",
      "execution_count": 9,
      "metadata": {
        "id": "jjAfrk5_ptNK"
      },
      "outputs": [],
      "source": [
        "\"\"\" 공백 전부 제거 \"\"\"\n",
        "data['customer_country'] = data['customer_country'].str.replace(' ', '')\n",
        "submission_test['customer_country'] = submission_test['customer_country'].str.replace(' ', '')\n"
      ]
    },
    {
      "cell_type": "markdown",
      "metadata": {
        "id": "i_WjOXDfdT5B"
      },
      "source": [
        "## [product modelname 수정]"
      ]
    },
    {
      "cell_type": "code",
      "execution_count": 10,
      "metadata": {
        "colab": {
          "base_uri": "https://localhost:8080/"
        },
        "id": "cIsfCQ8rdT5B",
        "outputId": "84c2fb8b-37fa-465f-9879-d1785557c3b4"
      },
      "outputs": [
        {
          "name": "stderr",
          "output_type": "stream",
          "text": [
            "<ipython-input-10-0cd4c5666aa6>:5: FutureWarning: The default value of regex will change from True to False in a future version.\n",
            "  df['product_modelname'] = df['product_modelname'].str.replace(r'\\([^)]*\\)', '')\n"
          ]
        }
      ],
      "source": [
        "def preprocess_product_modelname(df):\n",
        "    # 'product_modelname' 열에서 괄호와 공백 제거\n",
        "    df['product_modelname'] = df['product_modelname'].str.replace(r'\\([^)]*\\)', '')\n",
        "    df['product_modelname'] = df['product_modelname'].str.replace(' ', '')\n",
        "\n",
        "    # 대체할 데이터 목록\n",
        "    data_to_replace = [\n",
        "        'TotalCareThruOne-stopService',\n",
        "        'Duetobudgettheyhaveholdtherequiement',\n",
        "        'RequiredAfter3Months',\n",
        "        'WantSplitAC',\n",
        "        'OnlyInstallationNeed',\n",
        "        'Architect,WeareMeetingforEnqiryGeneration',\n",
        "        'PassedontoFixxydistribution',\n",
        "        'all',\n",
        "        'UltraFineErgo',\n",
        "        'ThisisbeingdealtwithbyLGGermany',\n",
        "        'SuperSignMediaEditor',\n",
        "        'SuperSignWB',\n",
        "        'ALLSurgical',\n",
        "        'Surgical',\n",
        "        'SuperSignCMS',\n",
        "        'diagnostic',\n",
        "        'LGESLExportteamisfollowupthelead',\n",
        "        'Video',\n",
        "        'AllMedicalDisplays',\n",
        "        'DigitalX-rayDetectors',\n",
        "        'SurgicalMonitors',\n",
        "        'DiagnosticMonitors',\n",
        "        'ClinicalReviewMonitors',\n",
        "        'DiagnosticMonitor',\n",
        "        'InquiryforwardedtoShaker',\n",
        "        'LGUltraWide™',\n",
        "        'LGMediaStudio',\n",
        "        'AI/MachineLearning|Antennas,TransmittersandTowers|AudienceMeasurement|CamerasandLenses',\n",
        "        'VerticalBrochure',\n",
        "        'WhitePaper'\n",
        "    ]\n",
        "    # 'product_modelname' 열에서 해당 값들을 NaN으로 대체\n",
        "    df['product_modelname'].replace(data_to_replace, np.nan, inplace=True)\n",
        "\n",
        "\n",
        "preprocess_product_modelname(data)\n",
        "preprocess_product_modelname(submission_test)"
      ]
    },
    {
      "cell_type": "markdown",
      "metadata": {},
      "source": [
        "## [expected timeline 수정]"
      ]
    },
    {
      "cell_type": "code",
      "execution_count": 13,
      "metadata": {
        "id": "H6Q_HzykdT5C"
      },
      "outputs": [],
      "source": [
        "\"\"\" expected timeline에서 긍/부정 요청사항 파악 후 sentimental 열 추가\"\"\"\n",
        "\n",
        "nlp = spacy.load(\"en_core_web_lg\")\n",
        "\n",
        "analyzer = SentimentIntensityAnalyzer()\n",
        "\n",
        "def sentiment_analysis(text):\n",
        "    doc = nlp(text)\n",
        "\n",
        "    spacy_score = sum([token.sentiment for token in doc]) / len(doc)\n",
        "\n",
        "    vader_score = analyzer.polarity_scores(text)['compound']\n",
        "\n",
        "    final_score = (spacy_score + vader_score) / 2\n",
        "\n",
        "    if final_score >= 0.05: \n",
        "        return \"Positive\"\n",
        "    elif final_score <= -0.05: \n",
        "        return \"Negative\"\n",
        "    else:\n",
        "        return \"Neutral\"\n",
        "\n",
        "\n",
        "tmp = data['expected_timeline'].dropna().unique()\n",
        "data['sentimental']=None\n",
        "for text in tmp:\n",
        "    indices = data[data['expected_timeline'] == text].index\n",
        "    result = sentiment_analysis(text)\n",
        "    data.loc[indices, 'sentimental'] = result\n",
        "\n",
        "tmp = submission_test['expected_timeline'].dropna().unique()\n",
        "submission_test['sentimental']=None\n",
        "for text in tmp:\n",
        "    indices = submission_test[submission_test['expected_timeline'] == text].index\n",
        "    result = sentiment_analysis(text)\n",
        "    submission_test.loc[indices, 'sentimental'] = result\n"
      ]
    },
    {
      "cell_type": "code",
      "execution_count": 14,
      "metadata": {
        "id": "6yxU0hbgdT5C"
      },
      "outputs": [],
      "source": [
        "\"\"\" expected timeline에서 동일한 뜻을 가진 문장 합치기 \"\"\"\n",
        "def preprocess_expected_timeline(df):\n",
        "    replacements = {\n",
        "        'less than 3 months': 'less than 3 months',\n",
        "        'less_than_3_months': 'less than 3 months',\n",
        "        'less than 3 months ,meeting with the customer for the more details and tentative boq will ne 32 and 43': 'less than 3 months',\n",
        "        'less than 3 months- outdoor led requiment': 'less than 3 months',\n",
        "        'less than 3 months. customer not answered . to call back': 'less than 3 months',\n",
        "        'duplicate lead - il220100042906. less than 3 months': 'less than 3 months',\n",
        "        '3 months ~ 6 months': '3 months ~ 6 months',\n",
        "        '3_months_~_6_months': '3 months ~ 6 months',\n",
        "        '9 months ~ 1 year': '9 months ~ 1 year',\n",
        "        '9_months_~_1_year': '9 months ~ 1 year',\n",
        "        '9 months - 1 year': '9 months ~ 1 year',\n",
        "        'more than a year': 'more than a year',\n",
        "        'more_than_a_year': 'more than a year',\n",
        "        '6 months ~ 9 months': '6 months ~ 9 months',\n",
        "        '6_months_~_9_months': '6 months ~ 9 months',\n",
        "        'less than 6 months': 'less than 6 months',\n",
        "        'less then 6 months': 'less than 6 months'\n",
        "    }\n",
        "\n",
        "    df['expected_timeline'].replace(replacements, inplace=True)\n",
        "\n",
        "preprocess_expected_timeline(data)\n",
        "preprocess_expected_timeline(submission_test)"
      ]
    },
    {
      "cell_type": "markdown",
      "metadata": {
        "id": "QOVcWDu7h3-s"
      },
      "source": [
        "## [customer_job, inquiry_type, customer_type, product_category, customer_position 수정]"
      ]
    },
    {
      "cell_type": "code",
      "execution_count": 15,
      "metadata": {
        "id": "84EkIKmr9c-U"
      },
      "outputs": [],
      "source": [
        "\"\"\" 의미가 비슷한 문장 합치기 \"\"\"\n",
        "def similar(a, b):\n",
        "    a_str = str(a) if isinstance(a, (str, float)) else \"\"\n",
        "    b_str = str(b) if isinstance(b, (str, float)) else \"\"\n",
        "\n",
        "    return SequenceMatcher(None, a_str, b_str).ratio()\n",
        "\n",
        "def find_and_replace_similar(df, threshold=0.8):\n",
        "    tmp =['customer_job','inquiry_type','customer_type','product_category','customer_position']\n",
        "    for column in tmp:\n",
        "        unique_values = df[column].unique()\n",
        "        for i, value1 in enumerate(unique_values):\n",
        "            for value2 in unique_values[i+1:]:\n",
        "                similarity_score = similar(value1, value2)\n",
        "                if similarity_score >= threshold:\n",
        "                    df[column].replace(value2, value1, inplace=True)\n",
        "\n",
        "find_and_replace_similar(data, threshold=0.8)\n",
        "find_and_replace_similar(submission_test, threshold=0.8)"
      ]
    },
    {
      "cell_type": "markdown",
      "metadata": {
        "id": "_Il-xc_KiFtZ"
      },
      "source": [
        "## [범주형 변수 => 수치형 변수]"
      ]
    },
    {
      "cell_type": "code",
      "execution_count": 16,
      "metadata": {
        "id": "epWBvdbDiDd8"
      },
      "outputs": [],
      "source": [
        "def label_encoding(series: pd.Series) -> pd.Series:\n",
        "    \"\"\"범주형 데이터를 시리즈 형태로 받아 숫자형 데이터로 변환합니다.\"\"\"\n",
        "\n",
        "    my_dict = {}\n",
        "\n",
        "    # 모든 요소를 문자열로 변환\n",
        "    series = series.astype(str)\n",
        "\n",
        "    for idx, value in enumerate(sorted(series.unique())):\n",
        "        my_dict[value] = idx\n",
        "    series = series.map(my_dict)\n",
        "\n",
        "    return series\n",
        "\n",
        "\n",
        "# 레이블 인코딩할 칼럼들\n",
        "label_columns = [\n",
        "    \"business_subarea\",\n",
        "    \"business_area\",\n",
        "    \"business_unit\",\n",
        "    \"customer_type\",\n",
        "    \"enterprise\",\n",
        "    \"customer_job\",\n",
        "    \"inquiry_type\",\n",
        "    \"product_category\",\n",
        "    \"product_subcategory\",\n",
        "    \"product_modelname\",\n",
        "    'country_level1', 'country_level2', 'country_level3',\n",
        "    \"customer_position\",\n",
        "    \"response_corporate\",\n",
        "    \"expected_timeline\",\n",
        "    \"customer_country\",\n",
        "    \"sentimental\"\n",
        "]\n",
        "\n",
        "df_all = pd.concat([data[label_columns], submission_test[label_columns]])\n",
        "\n",
        "for col in label_columns:\n",
        "    df_all[col] = label_encoding(df_all[col])\n",
        "\n",
        "for col in label_columns:\n",
        "    data[col] = df_all.iloc[: len(data)][col]\n",
        "    submission_test[col] = df_all.iloc[len(submission_test) :][col]\n"
      ]
    },
    {
      "cell_type": "markdown",
      "metadata": {
        "id": "yofxFE9JiVtC"
      },
      "source": [
        "## [IterativeImputation 진행]"
      ]
    },
    {
      "cell_type": "code",
      "execution_count": 17,
      "metadata": {
        "id": "mPMbJmSSVNoX"
      },
      "outputs": [],
      "source": [
        "data_x = data.drop(\"is_converted\",axis=1)\n",
        "submission_x = submission_test.drop([\"is_converted\",\"id\"],axis=1)\n",
        "labels_array = np.array(data_x.columns)\n",
        "imputer_mice = IterativeImputer(random_state=83)\n",
        "data_tmp = imputer_mice.fit_transform(data_x)\n",
        "submission_test_tmp = imputer_mice.fit_transform(submission_x)"
      ]
    },
    {
      "cell_type": "code",
      "execution_count": 18,
      "metadata": {
        "id": "_E1H4PpCdMSi"
      },
      "outputs": [],
      "source": [
        "data_2 = pd.DataFrame(data_tmp, columns=labels_array)\n",
        "submission_test_2 = pd.DataFrame(submission_test_tmp, columns=labels_array)\n",
        "\n",
        "data_2['is_converted']=data['is_converted']\n",
        "submission_test_2['is_converted']=submission_test['is_converted']"
      ]
    },
    {
      "cell_type": "markdown",
      "metadata": {
        "id": "13hcAPvCikVf"
      },
      "source": [
        "## [RandomUnderSampling 진행]"
      ]
    },
    {
      "cell_type": "code",
      "execution_count": 19,
      "metadata": {
        "id": "xQr7-jofOY0E"
      },
      "outputs": [],
      "source": [
        "X =data_2.drop(columns=['is_converted'])\n",
        "y = data_2['is_converted']\n",
        "X, y = RandomUnderSampler(random_state=2021).fit_resample(X, y)"
      ]
    },
    {
      "cell_type": "markdown",
      "metadata": {
        "id": "wAfCy3pQjrH5"
      },
      "source": [
        "## [MinMax Scaling 진행]"
      ]
    },
    {
      "cell_type": "code",
      "execution_count": 20,
      "metadata": {
        "id": "7qPLGRMcdT5G"
      },
      "outputs": [],
      "source": [
        "scale = MinMaxScaler()\n",
        "X = scale.fit_transform(X)\n",
        "test = submission_test_2.drop([\"is_converted\"],axis=1)\n",
        "test = scale.transform(test)\n"
      ]
    },
    {
      "cell_type": "markdown",
      "metadata": {
        "id": "qI76rqCPixtN"
      },
      "source": [
        "# 3. 모델 훈련"
      ]
    },
    {
      "cell_type": "markdown",
      "metadata": {
        "id": "rErRF7QhjXvl"
      },
      "source": [
        "## [모델 선언]"
      ]
    },
    {
      "cell_type": "code",
      "execution_count": 21,
      "metadata": {
        "id": "CXV-hitJectt"
      },
      "outputs": [],
      "source": [
        "rf = RandomForestClassifier(random_state = 42\n",
        "                         , n_estimators = 305\n",
        "                         , criterion = 'gini'\n",
        "                         , max_depth = 62\n",
        "                         , min_samples_split = 7\n",
        "                         , min_samples_leaf = 1)\n",
        "dt = DecisionTreeClassifier(random_state = 42\n",
        "                         , criterion = 'entropy'\n",
        "                         , max_depth = 25\n",
        "                         , min_samples_split = 2\n",
        "                         , min_samples_leaf = 1)\n",
        "et = ExtraTreesClassifier(random_state = 42\n",
        "                         , n_estimators = 930\n",
        "                         , criterion = 'entropy'\n",
        "                         , max_depth = 65\n",
        "                         , min_samples_split = 6\n",
        "                         , min_samples_leaf = 1\n",
        "                         )\n",
        "xgb = XGBClassifier(random_state = 42\n",
        "                   , n_estimators = 665\n",
        "                   , reg_lambda = 0.04614513317156364\n",
        "                   , reg_alpha = 0.8831857977740336\n",
        "                   , tree_method = \"exact\"\n",
        "                   , colsample_bytree = 0.7664006730032823\n",
        "                   , subsample = 0.6579847353498132\n",
        "                   , learning_rate = 0.4046062291148477\n",
        "                   , max_depth = 64\n",
        "                   , min_child_weight = 2\n",
        "                   )\n",
        "lgbm = LGBMClassifier(random_state=42)\n",
        "params = {\n",
        "          'learning_rate': 0.4,\n",
        "          'eval_metric':'F1',\n",
        "          'early_stopping_rounds':50,\n",
        "          'random_seed': 42,\n",
        "          'verbose':200}\n",
        "cat = CatBoostClassifier(**params)"
      ]
    },
    {
      "cell_type": "markdown",
      "metadata": {
        "id": "2n6JLlemj-hi"
      },
      "source": [
        "## [모델 Stacking]"
      ]
    },
    {
      "cell_type": "code",
      "execution_count": 22,
      "metadata": {
        "colab": {
          "base_uri": "https://localhost:8080/",
          "height": 1000
        },
        "id": "9N851hiMe3JH",
        "outputId": "f5cb2a01-ee8f-4a77-d44c-248bf64dacef"
      },
      "outputs": [
        {
          "name": "stdout",
          "output_type": "stream",
          "text": [
            "0:\tlearn: 0.8467989\ttotal: 51ms\tremaining: 51s\n",
            "200:\tlearn: 0.9978366\ttotal: 813ms\tremaining: 3.23s\n",
            "400:\tlearn: 0.9993817\ttotal: 1.55s\tremaining: 2.32s\n",
            "600:\tlearn: 0.9993818\ttotal: 2.23s\tremaining: 1.48s\n",
            "800:\tlearn: 0.9993818\ttotal: 2.88s\tremaining: 715ms\n",
            "999:\tlearn: 0.9993818\ttotal: 3.53s\tremaining: 0us\n",
            "[LightGBM] [Info] Number of positive: 4850, number of negative: 4850\n",
            "[LightGBM] [Info] Auto-choosing row-wise multi-threading, the overhead of testing was 0.002192 seconds.\n",
            "You can set `force_row_wise=true` to remove the overhead.\n",
            "And if memory is not enough, you can set `force_col_wise=true`.\n",
            "[LightGBM] [Info] Total Bins 3483\n",
            "[LightGBM] [Info] Number of data points in the train set: 9700, number of used features: 28\n",
            "[LightGBM] [Info] [binary:BoostFromScore]: pavg=0.500000 -> initscore=0.000000\n",
            "0:\tlearn: 0.8421602\ttotal: 4.65ms\tremaining: 4.64s\n",
            "200:\tlearn: 0.9989691\ttotal: 692ms\tremaining: 2.75s\n",
            "400:\tlearn: 0.9996136\ttotal: 1.35s\tremaining: 2.02s\n",
            "600:\tlearn: 0.9996136\ttotal: 1.95s\tremaining: 1.29s\n",
            "800:\tlearn: 0.9996135\ttotal: 2.55s\tremaining: 633ms\n",
            "999:\tlearn: 0.9996135\ttotal: 3.14s\tremaining: 0us\n",
            "0:\tlearn: 0.8575143\ttotal: 4.43ms\tremaining: 4.43s\n",
            "200:\tlearn: 0.9990983\ttotal: 693ms\tremaining: 2.75s\n",
            "400:\tlearn: 0.9994848\ttotal: 1.36s\tremaining: 2.03s\n",
            "600:\tlearn: 0.9994848\ttotal: 2.01s\tremaining: 1.33s\n",
            "800:\tlearn: 0.9994848\ttotal: 2.66s\tremaining: 661ms\n",
            "999:\tlearn: 0.9994848\ttotal: 3.3s\tremaining: 0us\n",
            "0:\tlearn: 0.8579990\ttotal: 3.99ms\tremaining: 3.98s\n",
            "200:\tlearn: 0.9992266\ttotal: 699ms\tremaining: 2.78s\n",
            "400:\tlearn: 0.9997423\ttotal: 1.35s\tremaining: 2.01s\n",
            "600:\tlearn: 0.9997423\ttotal: 2.02s\tremaining: 1.34s\n",
            "800:\tlearn: 0.9997423\ttotal: 2.63s\tremaining: 652ms\n",
            "999:\tlearn: 0.9997423\ttotal: 3.2s\tremaining: 0us\n",
            "0:\tlearn: 0.8435654\ttotal: 4.74ms\tremaining: 4.74s\n",
            "200:\tlearn: 0.9978107\ttotal: 696ms\tremaining: 2.77s\n",
            "400:\tlearn: 0.9992274\ttotal: 1.35s\tremaining: 2.02s\n",
            "600:\tlearn: 0.9992274\ttotal: 1.97s\tremaining: 1.31s\n",
            "800:\tlearn: 0.9992274\ttotal: 2.57s\tremaining: 638ms\n",
            "999:\tlearn: 0.9992274\ttotal: 3.15s\tremaining: 0us\n",
            "0:\tlearn: 0.8453194\ttotal: 3.83ms\tremaining: 3.83s\n",
            "200:\tlearn: 0.9994847\ttotal: 674ms\tremaining: 2.68s\n",
            "400:\tlearn: 0.9997423\ttotal: 1.32s\tremaining: 1.98s\n",
            "600:\tlearn: 0.9997423\ttotal: 1.92s\tremaining: 1.27s\n",
            "800:\tlearn: 0.9997423\ttotal: 2.49s\tremaining: 620ms\n",
            "999:\tlearn: 0.9997423\ttotal: 3.08s\tremaining: 0us\n",
            "[LightGBM] [Info] Number of positive: 3880, number of negative: 3880\n",
            "[LightGBM] [Info] Auto-choosing row-wise multi-threading, the overhead of testing was 0.000691 seconds.\n",
            "You can set `force_row_wise=true` to remove the overhead.\n",
            "And if memory is not enough, you can set `force_col_wise=true`.\n",
            "[LightGBM] [Info] Total Bins 3382\n",
            "[LightGBM] [Info] Number of data points in the train set: 7760, number of used features: 28\n",
            "[LightGBM] [Info] [binary:BoostFromScore]: pavg=0.500000 -> initscore=0.000000\n",
            "[LightGBM] [Info] Number of positive: 3880, number of negative: 3880\n",
            "[LightGBM] [Info] Auto-choosing row-wise multi-threading, the overhead of testing was 0.000658 seconds.\n",
            "You can set `force_row_wise=true` to remove the overhead.\n",
            "And if memory is not enough, you can set `force_col_wise=true`.\n",
            "[LightGBM] [Info] Total Bins 3461\n",
            "[LightGBM] [Info] Number of data points in the train set: 7760, number of used features: 28\n",
            "[LightGBM] [Info] [binary:BoostFromScore]: pavg=0.500000 -> initscore=0.000000\n",
            "[LightGBM] [Info] Number of positive: 3880, number of negative: 3880\n",
            "[LightGBM] [Info] Auto-choosing row-wise multi-threading, the overhead of testing was 0.000716 seconds.\n",
            "You can set `force_row_wise=true` to remove the overhead.\n",
            "And if memory is not enough, you can set `force_col_wise=true`.\n",
            "[LightGBM] [Info] Total Bins 3406\n",
            "[LightGBM] [Info] Number of data points in the train set: 7760, number of used features: 28\n",
            "[LightGBM] [Info] [binary:BoostFromScore]: pavg=0.500000 -> initscore=0.000000\n",
            "[LightGBM] [Info] Number of positive: 3880, number of negative: 3880\n",
            "[LightGBM] [Info] Auto-choosing row-wise multi-threading, the overhead of testing was 0.000636 seconds.\n",
            "You can set `force_row_wise=true` to remove the overhead.\n",
            "And if memory is not enough, you can set `force_col_wise=true`.\n",
            "[LightGBM] [Info] Total Bins 3443\n",
            "[LightGBM] [Info] Number of data points in the train set: 7760, number of used features: 28\n",
            "[LightGBM] [Info] [binary:BoostFromScore]: pavg=0.500000 -> initscore=0.000000\n",
            "[LightGBM] [Info] Number of positive: 3880, number of negative: 3880\n",
            "[LightGBM] [Info] Auto-choosing row-wise multi-threading, the overhead of testing was 0.000798 seconds.\n",
            "You can set `force_row_wise=true` to remove the overhead.\n",
            "And if memory is not enough, you can set `force_col_wise=true`.\n",
            "[LightGBM] [Info] Total Bins 3404\n",
            "[LightGBM] [Info] Number of data points in the train set: 7760, number of used features: 28\n",
            "[LightGBM] [Info] [binary:BoostFromScore]: pavg=0.500000 -> initscore=0.000000\n"
          ]
        },
        {
          "data": {
            "text/html": [
              "<style>#sk-container-id-1 {color: black;background-color: white;}#sk-container-id-1 pre{padding: 0;}#sk-container-id-1 div.sk-toggleable {background-color: white;}#sk-container-id-1 label.sk-toggleable__label {cursor: pointer;display: block;width: 100%;margin-bottom: 0;padding: 0.3em;box-sizing: border-box;text-align: center;}#sk-container-id-1 label.sk-toggleable__label-arrow:before {content: \"▸\";float: left;margin-right: 0.25em;color: #696969;}#sk-container-id-1 label.sk-toggleable__label-arrow:hover:before {color: black;}#sk-container-id-1 div.sk-estimator:hover label.sk-toggleable__label-arrow:before {color: black;}#sk-container-id-1 div.sk-toggleable__content {max-height: 0;max-width: 0;overflow: hidden;text-align: left;background-color: #f0f8ff;}#sk-container-id-1 div.sk-toggleable__content pre {margin: 0.2em;color: black;border-radius: 0.25em;background-color: #f0f8ff;}#sk-container-id-1 input.sk-toggleable__control:checked~div.sk-toggleable__content {max-height: 200px;max-width: 100%;overflow: auto;}#sk-container-id-1 input.sk-toggleable__control:checked~label.sk-toggleable__label-arrow:before {content: \"▾\";}#sk-container-id-1 div.sk-estimator input.sk-toggleable__control:checked~label.sk-toggleable__label {background-color: #d4ebff;}#sk-container-id-1 div.sk-label input.sk-toggleable__control:checked~label.sk-toggleable__label {background-color: #d4ebff;}#sk-container-id-1 input.sk-hidden--visually {border: 0;clip: rect(1px 1px 1px 1px);clip: rect(1px, 1px, 1px, 1px);height: 1px;margin: -1px;overflow: hidden;padding: 0;position: absolute;width: 1px;}#sk-container-id-1 div.sk-estimator {font-family: monospace;background-color: #f0f8ff;border: 1px dotted black;border-radius: 0.25em;box-sizing: border-box;margin-bottom: 0.5em;}#sk-container-id-1 div.sk-estimator:hover {background-color: #d4ebff;}#sk-container-id-1 div.sk-parallel-item::after {content: \"\";width: 100%;border-bottom: 1px solid gray;flex-grow: 1;}#sk-container-id-1 div.sk-label:hover label.sk-toggleable__label {background-color: #d4ebff;}#sk-container-id-1 div.sk-serial::before {content: \"\";position: absolute;border-left: 1px solid gray;box-sizing: border-box;top: 0;bottom: 0;left: 50%;z-index: 0;}#sk-container-id-1 div.sk-serial {display: flex;flex-direction: column;align-items: center;background-color: white;padding-right: 0.2em;padding-left: 0.2em;position: relative;}#sk-container-id-1 div.sk-item {position: relative;z-index: 1;}#sk-container-id-1 div.sk-parallel {display: flex;align-items: stretch;justify-content: center;background-color: white;position: relative;}#sk-container-id-1 div.sk-item::before, #sk-container-id-1 div.sk-parallel-item::before {content: \"\";position: absolute;border-left: 1px solid gray;box-sizing: border-box;top: 0;bottom: 0;left: 50%;z-index: -1;}#sk-container-id-1 div.sk-parallel-item {display: flex;flex-direction: column;z-index: 1;position: relative;background-color: white;}#sk-container-id-1 div.sk-parallel-item:first-child::after {align-self: flex-end;width: 50%;}#sk-container-id-1 div.sk-parallel-item:last-child::after {align-self: flex-start;width: 50%;}#sk-container-id-1 div.sk-parallel-item:only-child::after {width: 0;}#sk-container-id-1 div.sk-dashed-wrapped {border: 1px dashed gray;margin: 0 0.4em 0.5em 0.4em;box-sizing: border-box;padding-bottom: 0.4em;background-color: white;}#sk-container-id-1 div.sk-label label {font-family: monospace;font-weight: bold;display: inline-block;line-height: 1.2em;}#sk-container-id-1 div.sk-label-container {text-align: center;}#sk-container-id-1 div.sk-container {/* jupyter's `normalize.less` sets `[hidden] { display: none; }` but bootstrap.min.css set `[hidden] { display: none !important; }` so we also need the `!important` here to be able to override the default hidden behavior on the sphinx rendered scikit-learn.org. See: https://github.com/scikit-learn/scikit-learn/issues/21755 */display: inline-block !important;position: relative;}#sk-container-id-1 div.sk-text-repr-fallback {display: none;}</style><div id=\"sk-container-id-1\" class=\"sk-top-container\"><div class=\"sk-text-repr-fallback\"><pre>StackingClassifier(estimators=[(&#x27;et&#x27;,\n",
              "                                ExtraTreesClassifier(criterion=&#x27;entropy&#x27;,\n",
              "                                                     max_depth=65,\n",
              "                                                     min_samples_split=6,\n",
              "                                                     n_estimators=930,\n",
              "                                                     random_state=42)),\n",
              "                               (&#x27;xgb&#x27;,\n",
              "                                XGBClassifier(base_score=None, booster=None,\n",
              "                                              callbacks=None,\n",
              "                                              colsample_bylevel=None,\n",
              "                                              colsample_bynode=None,\n",
              "                                              colsample_bytree=0.7664006730032823,\n",
              "                                              device=None,\n",
              "                                              early_stopping_rounds=None,\n",
              "                                              enable_categorical=...\n",
              "                                              random_state=42, ...)),\n",
              "                               (&#x27;dt&#x27;,\n",
              "                                DecisionTreeClassifier(criterion=&#x27;entropy&#x27;,\n",
              "                                                       max_depth=25,\n",
              "                                                       random_state=42)),\n",
              "                               (&#x27;rf&#x27;,\n",
              "                                RandomForestClassifier(max_depth=62,\n",
              "                                                       min_samples_split=7,\n",
              "                                                       n_estimators=305,\n",
              "                                                       random_state=42)),\n",
              "                               (&#x27;cat&#x27;,\n",
              "                                &lt;catboost.core.CatBoostClassifier object at 0x7c38b5c599c0&gt;),\n",
              "                               (&#x27;lgbm&#x27;, LGBMClassifier(random_state=42))],\n",
              "                   final_estimator=LogisticRegression(), verbose=1)</pre><b>In a Jupyter environment, please rerun this cell to show the HTML representation or trust the notebook. <br />On GitHub, the HTML representation is unable to render, please try loading this page with nbviewer.org.</b></div><div class=\"sk-container\" hidden><div class=\"sk-item sk-dashed-wrapped\"><div class=\"sk-label-container\"><div class=\"sk-label sk-toggleable\"><input class=\"sk-toggleable__control sk-hidden--visually\" id=\"sk-estimator-id-1\" type=\"checkbox\" ><label for=\"sk-estimator-id-1\" class=\"sk-toggleable__label sk-toggleable__label-arrow\">StackingClassifier</label><div class=\"sk-toggleable__content\"><pre>StackingClassifier(estimators=[(&#x27;et&#x27;,\n",
              "                                ExtraTreesClassifier(criterion=&#x27;entropy&#x27;,\n",
              "                                                     max_depth=65,\n",
              "                                                     min_samples_split=6,\n",
              "                                                     n_estimators=930,\n",
              "                                                     random_state=42)),\n",
              "                               (&#x27;xgb&#x27;,\n",
              "                                XGBClassifier(base_score=None, booster=None,\n",
              "                                              callbacks=None,\n",
              "                                              colsample_bylevel=None,\n",
              "                                              colsample_bynode=None,\n",
              "                                              colsample_bytree=0.7664006730032823,\n",
              "                                              device=None,\n",
              "                                              early_stopping_rounds=None,\n",
              "                                              enable_categorical=...\n",
              "                                              random_state=42, ...)),\n",
              "                               (&#x27;dt&#x27;,\n",
              "                                DecisionTreeClassifier(criterion=&#x27;entropy&#x27;,\n",
              "                                                       max_depth=25,\n",
              "                                                       random_state=42)),\n",
              "                               (&#x27;rf&#x27;,\n",
              "                                RandomForestClassifier(max_depth=62,\n",
              "                                                       min_samples_split=7,\n",
              "                                                       n_estimators=305,\n",
              "                                                       random_state=42)),\n",
              "                               (&#x27;cat&#x27;,\n",
              "                                &lt;catboost.core.CatBoostClassifier object at 0x7c38b5c599c0&gt;),\n",
              "                               (&#x27;lgbm&#x27;, LGBMClassifier(random_state=42))],\n",
              "                   final_estimator=LogisticRegression(), verbose=1)</pre></div></div></div><div class=\"sk-serial\"><div class=\"sk-item\"><div class=\"sk-parallel\"><div class=\"sk-parallel-item\"><div class=\"sk-item\"><div class=\"sk-label-container\"><div class=\"sk-label sk-toggleable\"><label>et</label></div></div><div class=\"sk-serial\"><div class=\"sk-item\"><div class=\"sk-estimator sk-toggleable\"><input class=\"sk-toggleable__control sk-hidden--visually\" id=\"sk-estimator-id-2\" type=\"checkbox\" ><label for=\"sk-estimator-id-2\" class=\"sk-toggleable__label sk-toggleable__label-arrow\">ExtraTreesClassifier</label><div class=\"sk-toggleable__content\"><pre>ExtraTreesClassifier(criterion=&#x27;entropy&#x27;, max_depth=65, min_samples_split=6,\n",
              "                     n_estimators=930, random_state=42)</pre></div></div></div></div></div></div><div class=\"sk-parallel-item\"><div class=\"sk-item\"><div class=\"sk-label-container\"><div class=\"sk-label sk-toggleable\"><label>xgb</label></div></div><div class=\"sk-serial\"><div class=\"sk-item\"><div class=\"sk-estimator sk-toggleable\"><input class=\"sk-toggleable__control sk-hidden--visually\" id=\"sk-estimator-id-3\" type=\"checkbox\" ><label for=\"sk-estimator-id-3\" class=\"sk-toggleable__label sk-toggleable__label-arrow\">XGBClassifier</label><div class=\"sk-toggleable__content\"><pre>XGBClassifier(base_score=None, booster=None, callbacks=None,\n",
              "              colsample_bylevel=None, colsample_bynode=None,\n",
              "              colsample_bytree=0.7664006730032823, device=None,\n",
              "              early_stopping_rounds=None, enable_categorical=False,\n",
              "              eval_metric=None, feature_types=None, gamma=None,\n",
              "              grow_policy=None, importance_type=None,\n",
              "              interaction_constraints=None, learning_rate=0.4046062291148477,\n",
              "              max_bin=None, max_cat_threshold=None, max_cat_to_onehot=None,\n",
              "              max_delta_step=None, max_depth=64, max_leaves=None,\n",
              "              min_child_weight=2, missing=nan, monotone_constraints=None,\n",
              "              multi_strategy=None, n_estimators=665, n_jobs=None,\n",
              "              num_parallel_tree=None, random_state=42, ...)</pre></div></div></div></div></div></div><div class=\"sk-parallel-item\"><div class=\"sk-item\"><div class=\"sk-label-container\"><div class=\"sk-label sk-toggleable\"><label>dt</label></div></div><div class=\"sk-serial\"><div class=\"sk-item\"><div class=\"sk-estimator sk-toggleable\"><input class=\"sk-toggleable__control sk-hidden--visually\" id=\"sk-estimator-id-4\" type=\"checkbox\" ><label for=\"sk-estimator-id-4\" class=\"sk-toggleable__label sk-toggleable__label-arrow\">DecisionTreeClassifier</label><div class=\"sk-toggleable__content\"><pre>DecisionTreeClassifier(criterion=&#x27;entropy&#x27;, max_depth=25, random_state=42)</pre></div></div></div></div></div></div><div class=\"sk-parallel-item\"><div class=\"sk-item\"><div class=\"sk-label-container\"><div class=\"sk-label sk-toggleable\"><label>rf</label></div></div><div class=\"sk-serial\"><div class=\"sk-item\"><div class=\"sk-estimator sk-toggleable\"><input class=\"sk-toggleable__control sk-hidden--visually\" id=\"sk-estimator-id-5\" type=\"checkbox\" ><label for=\"sk-estimator-id-5\" class=\"sk-toggleable__label sk-toggleable__label-arrow\">RandomForestClassifier</label><div class=\"sk-toggleable__content\"><pre>RandomForestClassifier(max_depth=62, min_samples_split=7, n_estimators=305,\n",
              "                       random_state=42)</pre></div></div></div></div></div></div><div class=\"sk-parallel-item\"><div class=\"sk-item\"><div class=\"sk-label-container\"><div class=\"sk-label sk-toggleable\"><label>cat</label></div></div><div class=\"sk-serial\"><div class=\"sk-item\"><div class=\"sk-estimator sk-toggleable\"><input class=\"sk-toggleable__control sk-hidden--visually\" id=\"sk-estimator-id-6\" type=\"checkbox\" ><label for=\"sk-estimator-id-6\" class=\"sk-toggleable__label sk-toggleable__label-arrow\">CatBoostClassifier</label><div class=\"sk-toggleable__content\"><pre>&lt;catboost.core.CatBoostClassifier object at 0x7c38b5c599c0&gt;</pre></div></div></div></div></div></div><div class=\"sk-parallel-item\"><div class=\"sk-item\"><div class=\"sk-label-container\"><div class=\"sk-label sk-toggleable\"><label>lgbm</label></div></div><div class=\"sk-serial\"><div class=\"sk-item\"><div class=\"sk-estimator sk-toggleable\"><input class=\"sk-toggleable__control sk-hidden--visually\" id=\"sk-estimator-id-7\" type=\"checkbox\" ><label for=\"sk-estimator-id-7\" class=\"sk-toggleable__label sk-toggleable__label-arrow\">LGBMClassifier</label><div class=\"sk-toggleable__content\"><pre>LGBMClassifier(random_state=42)</pre></div></div></div></div></div></div></div></div><div class=\"sk-item\"><div class=\"sk-parallel\"><div class=\"sk-parallel-item\"><div class=\"sk-item\"><div class=\"sk-label-container\"><div class=\"sk-label sk-toggleable\"><label>final_estimator</label></div></div><div class=\"sk-serial\"><div class=\"sk-item\"><div class=\"sk-estimator sk-toggleable\"><input class=\"sk-toggleable__control sk-hidden--visually\" id=\"sk-estimator-id-8\" type=\"checkbox\" ><label for=\"sk-estimator-id-8\" class=\"sk-toggleable__label sk-toggleable__label-arrow\">LogisticRegression</label><div class=\"sk-toggleable__content\"><pre>LogisticRegression()</pre></div></div></div></div></div></div></div></div></div></div></div></div>"
            ],
            "text/plain": [
              "StackingClassifier(estimators=[('et',\n",
              "                                ExtraTreesClassifier(criterion='entropy',\n",
              "                                                     max_depth=65,\n",
              "                                                     min_samples_split=6,\n",
              "                                                     n_estimators=930,\n",
              "                                                     random_state=42)),\n",
              "                               ('xgb',\n",
              "                                XGBClassifier(base_score=None, booster=None,\n",
              "                                              callbacks=None,\n",
              "                                              colsample_bylevel=None,\n",
              "                                              colsample_bynode=None,\n",
              "                                              colsample_bytree=0.7664006730032823,\n",
              "                                              device=None,\n",
              "                                              early_stopping_rounds=None,\n",
              "                                              enable_categorical=...\n",
              "                                              random_state=42, ...)),\n",
              "                               ('dt',\n",
              "                                DecisionTreeClassifier(criterion='entropy',\n",
              "                                                       max_depth=25,\n",
              "                                                       random_state=42)),\n",
              "                               ('rf',\n",
              "                                RandomForestClassifier(max_depth=62,\n",
              "                                                       min_samples_split=7,\n",
              "                                                       n_estimators=305,\n",
              "                                                       random_state=42)),\n",
              "                               ('cat',\n",
              "                                <catboost.core.CatBoostClassifier object at 0x7c38b5c599c0>),\n",
              "                               ('lgbm', LGBMClassifier(random_state=42))],\n",
              "                   final_estimator=LogisticRegression(), verbose=1)"
            ]
          },
          "execution_count": 22,
          "metadata": {},
          "output_type": "execute_result"
        }
      ],
      "source": [
        "estimators = [('et',et), ('xgb',xgb), ('dt',dt), ('rf',rf),('cat',cat),('lgbm',lgbm)]\n",
        "stack = StackingClassifier(estimators, final_estimator=LogisticRegression(), verbose=1)\n",
        "stack.fit(X,y)\n"
      ]
    },
    {
      "cell_type": "markdown",
      "metadata": {
        "id": "mLavbBfQkFgS"
      },
      "source": [
        "# 4. 모델 예측"
      ]
    },
    {
      "cell_type": "code",
      "execution_count": 23,
      "metadata": {
        "colab": {
          "base_uri": "https://localhost:8080/"
        },
        "id": "MleEkEz2hkdL",
        "outputId": "71fffe21-e508-446c-bbec-2eddce2d1474"
      },
      "outputs": [
        {
          "data": {
            "text/plain": [
              "False    2822\n",
              "True     2449\n",
              "dtype: int64"
            ]
          },
          "execution_count": 23,
          "metadata": {},
          "output_type": "execute_result"
        }
      ],
      "source": [
        "pred = stack.predict(test)\n",
        "my_series = pd.Series(pred)\n",
        "value_counts_result = my_series.value_counts()\n",
        "value_counts_result"
      ]
    },
    {
      "cell_type": "markdown",
      "metadata": {
        "id": "8eOiU8dWrqx-"
      },
      "source": [
        "# 5. 결과 저장"
      ]
    },
    {
      "cell_type": "code",
      "execution_count": 24,
      "metadata": {
        "id": "-AVmYSuHSVav"
      },
      "outputs": [],
      "source": [
        "df_sub = pd.read_csv(\"submission.csv\")\n",
        "df_sub[\"is_converted\"] = pred\n",
        "# 제출 파일 저장\n",
        "df_sub.to_csv(\"submission.csv\", index=False)"
      ]
    }
  ],
  "metadata": {
    "accelerator": "GPU",
    "colab": {
      "gpuType": "V100",
      "machine_shape": "hm",
      "provenance": []
    },
    "kernelspec": {
      "display_name": "Python 3 (ipykernel)",
      "language": "python",
      "name": "python3"
    },
    "language_info": {
      "codemirror_mode": {
        "name": "ipython",
        "version": 3
      },
      "file_extension": ".py",
      "mimetype": "text/x-python",
      "name": "python",
      "nbconvert_exporter": "python",
      "pygments_lexer": "ipython3",
      "version": "3.10.7"
    },
    "vscode": {
      "interpreter": {
        "hash": "db457251047696df4f055eae072b3543150105d4ed54a3647a195b3cd750675e"
      }
    }
  },
  "nbformat": 4,
  "nbformat_minor": 0
}
